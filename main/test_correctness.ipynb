{
 "cells": [
  {
   "cell_type": "code",
   "execution_count": 1,
   "metadata": {
    "colab": {
     "base_uri": "https://localhost:8080/"
    },
    "executionInfo": {
     "elapsed": 112,
     "status": "ok",
     "timestamp": 1622320245786,
     "user": {
      "displayName": "He Lyu",
      "photoUrl": "",
      "userId": "01449226008643862256"
     },
     "user_tz": 240
    },
    "id": "Rvll250Gk0fD",
    "outputId": "b23aadc6-aa15-44e1-fb0a-566e3fb08c7e"
   },
   "outputs": [
    {
     "name": "stdout",
     "output_type": "stream",
     "text": [
      "Drive already mounted at /content/drive/; to attempt to forcibly remount, call drive.mount(\"/content/drive/\", force_remount=True).\n"
     ]
    }
   ],
   "source": [
    "from google.colab import drive\n",
    "drive.mount('/content/drive/')"
   ]
  },
  {
   "cell_type": "code",
   "execution_count": 2,
   "metadata": {
    "executionInfo": {
     "elapsed": 99,
     "status": "ok",
     "timestamp": 1622320245884,
     "user": {
      "displayName": "He Lyu",
      "photoUrl": "",
      "userId": "01449226008643862256"
     },
     "user_tz": 240
    },
    "id": "GUOVlCD3lDRg"
   },
   "outputs": [],
   "source": [
    "import sys\n",
    "sys.path.append('/content/drive/My Drive/Inverting heat source')"
   ]
  },
  {
   "cell_type": "code",
   "execution_count": 3,
   "metadata": {
    "executionInfo": {
     "elapsed": 885,
     "status": "ok",
     "timestamp": 1622320247156,
     "user": {
      "displayName": "He Lyu",
      "photoUrl": "",
      "userId": "01449226008643862256"
     },
     "user_tz": 240
    },
    "id": "8-JHODFLoC21"
   },
   "outputs": [],
   "source": [
    "import heatn as ht\n",
    "import numpy as np\n",
    "import matplotlib.pyplot as plt\n",
    "import scipy as sp\n",
    "import numpy as np\n",
    "import matplotlib.pyplot as plt\n",
    "from scipy.sparse import csr_matrix\n",
    "import torch \n",
    "import cvxpy as cp\n",
    "import scipy as sp\n",
    "import scipy.sparse.linalg\n",
    "from scipy.linalg import circulant\n",
    "from numpy.linalg import matrix_power\n",
    "import ipdb\n",
    "import warnings\n",
    "import time\n",
    "warnings.filterwarnings(\"ignore\")\n",
    "N = 500\n",
    "D = np.diag(np.ones((N,1))[:,0],0)-np.diag(np.ones((N-1,1))[:,0],-1)\n",
    "D[-2,-1]=0\n",
    "A,Sigma=ht.makeA_periodic(500,5)\n",
    "u=ht.gensource(N=500,spikes=2,lim=40)\n",
    "m=ht.meas(u,blur='gaussian')\n",
    "#psnr=ht.getx(A,m,u,D)"
   ]
  },
  {
   "cell_type": "code",
   "execution_count": 4,
   "metadata": {
    "colab": {
     "base_uri": "https://localhost:8080/"
    },
    "executionInfo": {
     "elapsed": 102826,
     "status": "ok",
     "timestamp": 1622320351223,
     "user": {
      "displayName": "He Lyu",
      "photoUrl": "",
      "userId": "01449226008643862256"
     },
     "user_tz": 240
    },
    "id": "AO8NjMhMxf2f",
    "outputId": "08e55eae-518f-44c8-fbcc-4fb663e9deca"
   },
   "outputs": [
    {
     "name": "stdout",
     "output_type": "stream",
     "text": [
      "spikes 2 trial: 0 psnr 28.787884813785073\n",
      "spikes 2 trial: 1 psnr 37.59291573210219\n",
      "spikes 4 trial: 0 psnr 30.28463222974931\n",
      "spikes 4 trial: 1 psnr 30.82958014587726\n",
      "spikes 6 trial: 0 psnr 26.71567265053017\n",
      "spikes 6 trial: 1 psnr 42.88810702074542\n",
      "spikes 8 trial: 0 psnr 25.708830026563117\n",
      "spikes 8 trial: 1 psnr 22.065098831646523\n",
      "spikes 10 trial: 0 psnr 20.681580938693433\n",
      "spikes 10 trial: 1 psnr 35.95846162843127\n",
      "spikes 12 trial: 0 psnr 18.30446618282148\n",
      "spikes 12 trial: 1 psnr 26.3926695518879\n",
      "spikes 14 trial: 0 psnr 30.524206911210598\n",
      "spikes 14 trial: 1 psnr 27.074933009646486\n",
      "spikes 16 trial: 0 psnr 36.00959244646848\n",
      "spikes 16 trial: 1 psnr 24.32263031640147\n",
      "spikes 18 trial: 0 psnr 23.526745425099644\n",
      "spikes 18 trial: 1 psnr 37.21146899494027\n"
     ]
    }
   ],
   "source": [
    "store = ht.exp(trails=2)"
   ]
  },
  {
   "cell_type": "code",
   "execution_count": 8,
   "metadata": {
    "colab": {
     "base_uri": "https://localhost:8080/"
    },
    "executionInfo": {
     "elapsed": 147,
     "status": "ok",
     "timestamp": 1622330401974,
     "user": {
      "displayName": "He Lyu",
      "photoUrl": "",
      "userId": "01449226008643862256"
     },
     "user_tz": 240
    },
    "id": "T9WqTFicNTvQ",
    "outputId": "a73c4a76-6a0c-4ede-c495-8fd97678ef60"
   },
   "outputs": [
    {
     "data": {
      "text/plain": [
       "10"
      ]
     },
     "execution_count": 8,
     "metadata": {
      "tags": []
     },
     "output_type": "execute_result"
    }
   ],
   "source": [
    "mydict={}\n",
    "mydict[5] = 10\n",
    "max(mydict.values())"
   ]
  },
  {
   "cell_type": "code",
   "execution_count": 4,
   "metadata": {
    "colab": {
     "base_uri": "https://localhost:8080/",
     "height": 298
    },
    "executionInfo": {
     "elapsed": 470,
     "status": "ok",
     "timestamp": 1622309293146,
     "user": {
      "displayName": "He Lyu",
      "photoUrl": "",
      "userId": "01449226008643862256"
     },
     "user_tz": 240
    },
    "id": "yrYy5Uc2ojD5",
    "outputId": "e4186a94-e562-4cfc-d9f1-0b7c60f94f29"
   },
   "outputs": [
    {
     "data": {
      "text/plain": [
       "(<matplotlib.axes._subplots.AxesSubplot at 0x7f7656238550>,\n",
       " [<matplotlib.lines.Line2D at 0x7f75e932a6d0>])"
      ]
     },
     "execution_count": 4,
     "metadata": {
      "tags": []
     },
     "output_type": "execute_result"
    },
    {
     "data": {
      "image/png": "[encoded data removed]",
      "text/plain": [
       "<Figure size 432x288 with 2 Axes>"
      ]
     },
     "metadata": {
      "needs_background": "light",
      "tags": []
     },
     "output_type": "display_data"
    }
   ],
   "source": [
    "plt.subplot(121),plt.plot(u)\n",
    "plt.subplot(122),plt.plot(m)"
   ]
  },
  {
   "cell_type": "code",
   "execution_count": 5,
   "metadata": {
    "executionInfo": {
     "elapsed": 88,
     "status": "ok",
     "timestamp": 1622309294481,
     "user": {
      "displayName": "He Lyu",
      "photoUrl": "",
      "userId": "01449226008643862256"
     },
     "user_tz": 240
    },
    "id": "sRUmfVgyv50o"
   },
   "outputs": [],
   "source": [
    "def myADMM(Sigma,y,constrain=True,maxit=3000,tol=1e-6,epsilon=1e0,rho=1):\n",
    "  y = y.numpy()\n",
    "  N = len(y)\n",
    "  D1 = sp.sparse.diags(np.ones((N,)),0) -sp.sparse.diags(np.ones((N-1,)),-1)\n",
    "  D1[0,-1] = -1\n",
    "  y = y.reshape(N,)\n",
    "  err = []\n",
    "  loss = []\n",
    "  a = np.zeros(N,)\n",
    "  a[0] = 1\n",
    "  a[-1] = -1\n",
    "  Lambda = sp.sparse.diags(scipy.fft.fft(a),0)\n",
    "  x =y#np.random.randn(N,)\n",
    "  z = np.zeros(N,)#np.random.randn(N,)\n",
    "  u = np.zeros(N,)#np.random.randn(N,)\n",
    "  F = sp.fft.fft(np.eye(N))/np.sqrt(N)\n",
    "  Fy = sp.fft.fft(y).conjugate()\n",
    "  d = (2*epsilon*Sigma**2+rho*Lambda.conjugate()@Lambda).diagonal()\n",
    "  invD = sp.sparse.diags(1/d,0)\n",
    "  if constrain == True:\n",
    "    for i in range(maxit):\n",
    "      x = np.real(sp.fft.fft(invD@(2*epsilon*Sigma@Fy+rho*Lambda.conjugate()@sp.fft.fft(z-u).conjugate())))/N\n",
    "      x = np.maximum(x,0)\n",
    "      loss.append(np.linalg.norm(D1@x,1)+epsilon*np.linalg.norm(y-sp.fft.fft(Sigma@sp.fft.fft(x).conjugate())/N)**2)\n",
    "      z = (abs(D1@x+u)>(1./rho))*(abs(D1@x+u)-1./rho)*np.sign(D1@x+u)\n",
    "      u = u + D1@x - z\n",
    "      err.append(np.linalg.norm(D1@x-z))\n",
    "      if i>50 and np.linalg.norm(D1@x-z) < tol:\n",
    "        print('iter',i)\n",
    "        break\n",
    "  else: \n",
    "    for i in range(maxit):\n",
    "      x = np.real(sp.fft.fft(invD@(2*epsilon*Sigma@Fy+rho*Lambda.conjugate()@sp.fft.fft(z-u).conjugate())))/N\n",
    "      loss.append(np.linalg.norm(D1@x,1)+epsilon*np.linalg.norm(y-sp.fft.fft(Sigma@sp.fft.fft(x).conjugate())/N)**2)\n",
    "      z = (abs(D1@x+u)>(1./rho))*(abs(D1@x+u)-1./rho)*np.sign(D1@x+u)\n",
    "      u = u + D1@x - z\n",
    "      err.append(np.linalg.norm(D1@x-z))\n",
    "      if i>100 and np.linalg.norm(D1@x-z) < tol:\n",
    "        print('iter',i)\n",
    "        break\n",
    "  return x"
   ]
  },
  {
   "cell_type": "code",
   "execution_count": 6,
   "metadata": {
    "colab": {
     "base_uri": "https://localhost:8080/",
     "height": 282
    },
    "executionInfo": {
     "elapsed": 506,
     "status": "ok",
     "timestamp": 1622309297779,
     "user": {
      "displayName": "He Lyu",
      "photoUrl": "",
      "userId": "01449226008643862256"
     },
     "user_tz": 240
    },
    "id": "VQWZjQtkwBhr",
    "outputId": "bbba1eb9-2011-4e48-e995-87e8b5992668"
   },
   "outputs": [
    {
     "data": {
      "text/plain": [
       "[<matplotlib.lines.Line2D at 0x7f75e8dd1d90>]"
      ]
     },
     "execution_count": 6,
     "metadata": {
      "tags": []
     },
     "output_type": "execute_result"
    },
    {
     "data": {
      "image/png": "[encoded data removed]",
      "text/plain": [
       "<Figure size 432x288 with 1 Axes>"
      ]
     },
     "metadata": {
      "needs_background": "light",
      "tags": []
     },
     "output_type": "display_data"
    }
   ],
   "source": [
    "warnings.filterwarnings(\"ignore\")\n",
    "z = myADMM(Sigma**1100,m,constrain=True,maxit=300,tol=1e-6,epsilon=1e0,rho=1)\n",
    "plt.plot(z)"
   ]
  },
  {
   "cell_type": "code",
   "execution_count": 7,
   "metadata": {
    "executionInfo": {
     "elapsed": 97,
     "status": "ok",
     "timestamp": 1622309300794,
     "user": {
      "displayName": "He Lyu",
      "photoUrl": "",
      "userId": "01449226008643862256"
     },
     "user_tz": 240
    },
    "id": "Dt1iPJg7450P"
   },
   "outputs": [],
   "source": [
    "def l1solv_mix(Fw1,meas,D,u):\n",
    "# Create variable.\n",
    "   x_l1 = cp.Variable(shape=(500,1))\n",
    "   constraints = [x_l1>=0] #, cp.norm(Fw1.numpy()@x_l1-meas, 2)<=torch.norm(noise)]\n",
    "# Form objective.\n",
    "   obj = cp.Minimize(cp.norm(D@x_l1, 1)+ cp.norm((Fw1.numpy()@x_l1)[:,0]-meas, 2)**2*1e0)\n",
    "# Form and solve problem.\n",
    "   prob = cp.Problem(obj, constraints)\n",
    "   prob.solve()\n",
    "   x2 = torch.from_numpy(x_l1.value[:,0]).cpu().type(dtype=torch.float32)\n",
    "   mx_norm = torch.norm(torch.from_numpy(D@x_l1.value[:,0]), 0.5)**0.5+(torch.norm(torch.from_numpy(D@x_l1.value[:,0]), 2))**2*5e-4\n",
    "   #psnr_recon = psnr1(u,x_l1.value.T)\n",
    "   #print('psnr:{:f}, mixednorm:{:f}'.format(psnr_recon,mx_norm))\n",
    "   return x_l1.value"
   ]
  },
  {
   "cell_type": "code",
   "execution_count": 8,
   "metadata": {
    "executionInfo": {
     "elapsed": 6890,
     "status": "ok",
     "timestamp": 1622309308602,
     "user": {
      "displayName": "He Lyu",
      "photoUrl": "",
      "userId": "01449226008643862256"
     },
     "user_tz": 240
    },
    "id": "e3VZQCl-AR4L"
   },
   "outputs": [],
   "source": [
    "x_cvx = l1solv_mix(torch.matrix_power(A, int(1100)),m,D,u)"
   ]
  },
  {
   "cell_type": "code",
   "execution_count": 9,
   "metadata": {
    "colab": {
     "base_uri": "https://localhost:8080/",
     "height": 298
    },
    "executionInfo": {
     "elapsed": 536,
     "status": "ok",
     "timestamp": 1622309309134,
     "user": {
      "displayName": "He Lyu",
      "photoUrl": "",
      "userId": "01449226008643862256"
     },
     "user_tz": 240
    },
    "id": "aXuCSGHWAnkA",
    "outputId": "4cb768c1-29cd-43b7-e479-3338be964b92"
   },
   "outputs": [
    {
     "data": {
      "text/plain": [
       "(<matplotlib.axes._subplots.AxesSubplot at 0x7f75e8d16ad0>,\n",
       " [<matplotlib.lines.Line2D at 0x7f75e047fe90>])"
      ]
     },
     "execution_count": 9,
     "metadata": {
      "tags": []
     },
     "output_type": "execute_result"
    },
    {
     "data": {
      "image/png": "[encoded data removed]",
      "text/plain": [
       "<Figure size 432x288 with 3 Axes>"
      ]
     },
     "metadata": {
      "needs_background": "light",
      "tags": []
     },
     "output_type": "display_data"
    }
   ],
   "source": [
    "plt.subplot(131),plt.plot(z)\n",
    "plt.subplot(132),plt.plot(x_cvx)\n",
    "plt.subplot(133),plt.plot(u)"
   ]
  },
  {
   "cell_type": "code",
   "execution_count": 10,
   "metadata": {
    "executionInfo": {
     "elapsed": 4,
     "status": "ok",
     "timestamp": 1622309309134,
     "user": {
      "displayName": "He Lyu",
      "photoUrl": "",
      "userId": "01449226008643862256"
     },
     "user_tz": 240
    },
    "id": "KqD-xDniAyiu"
   },
   "outputs": [],
   "source": [
    "def psnr1(A,B):\n",
    "    MSE = torch.mean((A-B)**2)**0.5\n",
    "    return 20*np.log(torch.max(torch.abs(A))/MSE)/np.log(10)  "
   ]
  },
  {
   "cell_type": "code",
   "execution_count": 11,
   "metadata": {
    "colab": {
     "base_uri": "https://localhost:8080/"
    },
    "executionInfo": {
     "elapsed": 4,
     "status": "ok",
     "timestamp": 1622309309135,
     "user": {
      "displayName": "He Lyu",
      "photoUrl": "",
      "userId": "01449226008643862256"
     },
     "user_tz": 240
    },
    "id": "vB5uSCdrA76S",
    "outputId": "94dfc850-beda-4788-d476-20ec47f3b61a"
   },
   "outputs": [
    {
     "name": "stdout",
     "output_type": "stream",
     "text": [
      "tensor(28.0300, dtype=torch.float64)\n",
      "tensor(24.2139, dtype=torch.float64)\n"
     ]
    }
   ],
   "source": [
    "print(psnr1(torch.from_numpy(z),u))\n",
    "print(psnr1(torch.from_numpy(x_cvx).reshape(N,),u))"
   ]
  },
  {
   "cell_type": "code",
   "execution_count": 14,
   "metadata": {
    "colab": {
     "base_uri": "https://localhost:8080/",
     "height": 282
    },
    "executionInfo": {
     "elapsed": 273,
     "status": "ok",
     "timestamp": 1622306525988,
     "user": {
      "displayName": "He Lyu",
      "photoUrl": "",
      "userId": "01449226008643862256"
     },
     "user_tz": 240
    },
    "id": "eu5kuV05wKtu",
    "outputId": "84332a32-3558-40c7-9959-e97cc50fa0e2"
   },
   "outputs": [
    {
     "data": {
      "text/plain": [
       "[<matplotlib.lines.Line2D at 0x7ff4ce34af10>]"
      ]
     },
     "execution_count": 14,
     "metadata": {
      "tags": []
     },
     "output_type": "execute_result"
    },
    {
     "data": {
      "image/png": "[encoded data removed]",
      "text/plain": [
       "<Figure size 432x288 with 1 Axes>"
      ]
     },
     "metadata": {
      "needs_background": "light",
      "tags": []
     },
     "output_type": "display_data"
    }
   ],
   "source": [
    "plt.plot(Sigma.toarray().diagonal())"
   ]
  },
  {
   "cell_type": "code",
   "execution_count": 17,
   "metadata": {
    "colab": {
     "base_uri": "https://localhost:8080/"
    },
    "executionInfo": {
     "elapsed": 6200,
     "status": "ok",
     "timestamp": 1622319508516,
     "user": {
      "displayName": "He Lyu",
      "photoUrl": "",
      "userId": "01449226008643862256"
     },
     "user_tz": 240
    },
    "id": "C5_dmYSHrhg3",
    "outputId": "aeaa13e4-0302-40b0-e604-2b1a9e853bc2"
   },
   "outputs": [
    {
     "data": {
      "text/plain": [
       "tensor(28.3251, dtype=torch.float64)"
      ]
     },
     "execution_count": 17,
     "metadata": {
      "tags": []
     },
     "output_type": "execute_result"
    }
   ],
   "source": [
    "psnr=ht.getx1(Sigma,m,u,D)\n",
    "psnr"
   ]
  },
  {
   "cell_type": "code",
   "execution_count": 12,
   "metadata": {
    "colab": {
     "base_uri": "https://localhost:8080/"
    },
    "executionInfo": {
     "elapsed": 109066,
     "status": "ok",
     "timestamp": 1622308582918,
     "user": {
      "displayName": "He Lyu",
      "photoUrl": "",
      "userId": "01449226008643862256"
     },
     "user_tz": 240
    },
    "id": "jsvr3eI7u5Og",
    "outputId": "c7eb4133-df3e-4051-8f99-67db954e0e3c"
   },
   "outputs": [
    {
     "name": "stdout",
     "output_type": "stream",
     "text": [
      "psnr: tensor(20.6901, dtype=torch.float64)\n",
      "psnr: tensor(21.2865, dtype=torch.float64)\n",
      "psnr: tensor(21.2206, dtype=torch.float64)\n",
      "psnr: tensor(21.5861, dtype=torch.float64)\n",
      "psnr: tensor(21.4488, dtype=torch.float64)\n",
      "psnr: tensor(22.4034, dtype=torch.float64)\n",
      "psnr: tensor(24.4438, dtype=torch.float64)\n",
      "psnr: tensor(28.5464, dtype=torch.float64)\n",
      "psnr: tensor(27.7357, dtype=torch.float64)\n",
      "psnr: tensor(24.5499, dtype=torch.float64)\n",
      "psnr: tensor(22.4588, dtype=torch.float64)\n",
      "psnr: tensor(21.2211, dtype=torch.float64)\n",
      "psnr: tensor(20.2675, dtype=torch.float64)\n",
      "psnr: tensor(20.3280, dtype=torch.float64)\n",
      "psnr: tensor(20.4456, dtype=torch.float64)\n",
      "psnr: tensor(20.8093, dtype=torch.float64)\n",
      "psnr: tensor(20.7161, dtype=torch.float64)\n",
      "psnr: tensor(20.6882, dtype=torch.float64)\n",
      "psnr: tensor(20.3232, dtype=torch.float64)\n",
      "psnr: tensor(19.8038, dtype=torch.float64)\n"
     ]
    },
    {
     "data": {
      "text/plain": [
       "tensor(27.7357, dtype=torch.float64)"
      ]
     },
     "execution_count": 12,
     "metadata": {
      "tags": []
     },
     "output_type": "execute_result"
    }
   ],
   "source": [
    "psnr1=ht.getx(A,m,u,D)\n",
    "psnr1"
   ]
  },
  {
   "cell_type": "code",
   "execution_count": null,
   "metadata": {
    "id": "yVEX0c0ZHtgh"
   },
   "outputs": [],
   "source": [
    "psnr2=ht.getx(A,m,u,D,power=1,epsilon=1e1)\n",
    "psnr2"
   ]
  },
  {
   "cell_type": "code",
   "execution_count": null,
   "metadata": {
    "id": "h52uX29uu17z"
   },
   "outputs": [],
   "source": [
    "psnr=ht.getx1(Sigma,m,u,D)"
   ]
  },
  {
   "cell_type": "code",
   "execution_count": 8,
   "metadata": {
    "colab": {
     "base_uri": "https://localhost:8080/",
     "height": 279
    },
    "executionInfo": {
     "elapsed": 92,
     "status": "error",
     "timestamp": 1622319415714,
     "user": {
      "displayName": "He Lyu",
      "photoUrl": "",
      "userId": "01449226008643862256"
     },
     "user_tz": 240
    },
    "id": "D3BGgjaGIj6K",
    "outputId": "8f98bd69-5965-4b8b-8f99-6855d188b02b"
   },
   "outputs": [
    {
     "ename": "NameError",
     "evalue": "ignored",
     "output_type": "error",
     "traceback": [
      "\u001b[0;31m---------------------------------------------------------------------------\u001b[0m",
      "\u001b[0;31mNameError\u001b[0m                                 Traceback (most recent call last)",
      "\u001b[0;32m<ipython-input-8-15c60befa3f5>\u001b[0m in \u001b[0;36m<module>\u001b[0;34m\u001b[0m\n\u001b[0;32m----> 1\u001b[0;31m \u001b[0mstore\u001b[0m \u001b[0;34m=\u001b[0m \u001b[0mht\u001b[0m\u001b[0;34m.\u001b[0m\u001b[0mexp\u001b[0m\u001b[0;34m(\u001b[0m\u001b[0;34m)\u001b[0m\u001b[0;34m\u001b[0m\u001b[0;34m\u001b[0m\u001b[0m\n\u001b[0m",
      "\u001b[0;32m/content/drive/My Drive/Inverting heat source/heatn.py\u001b[0m in \u001b[0;36mexp\u001b[0;34m()\u001b[0m\n\u001b[1;32m    192\u001b[0m     \u001b[0;32mfor\u001b[0m \u001b[0mi\u001b[0m \u001b[0;32min\u001b[0m \u001b[0mrange\u001b[0m\u001b[0;34m(\u001b[0m\u001b[0mlen\u001b[0m\u001b[0;34m(\u001b[0m\u001b[0mspikes\u001b[0m\u001b[0;34m)\u001b[0m\u001b[0;34m)\u001b[0m\u001b[0;34m:\u001b[0m\u001b[0;34m\u001b[0m\u001b[0;34m\u001b[0m\u001b[0m\n\u001b[1;32m    193\u001b[0m         \u001b[0;32mfor\u001b[0m \u001b[0mj\u001b[0m \u001b[0;32min\u001b[0m \u001b[0mrange\u001b[0m \u001b[0;34m(\u001b[0m\u001b[0mtrails\u001b[0m\u001b[0;34m)\u001b[0m\u001b[0;34m:\u001b[0m\u001b[0;34m\u001b[0m\u001b[0;34m\u001b[0m\u001b[0m\n\u001b[0;32m--> 194\u001b[0;31m             \u001b[0mA\u001b[0m\u001b[0;34m,\u001b[0m\u001b[0mSigma\u001b[0m\u001b[0;34m=\u001b[0m\u001b[0mht\u001b[0m\u001b[0;34m.\u001b[0m\u001b[0mmakeA_periodic\u001b[0m\u001b[0;34m(\u001b[0m\u001b[0;36m500\u001b[0m\u001b[0;34m,\u001b[0m\u001b[0;36m5\u001b[0m\u001b[0;34m)\u001b[0m\u001b[0;34m\u001b[0m\u001b[0;34m\u001b[0m\u001b[0m\n\u001b[0m\u001b[1;32m    195\u001b[0m             \u001b[0mu\u001b[0m\u001b[0;34m=\u001b[0m\u001b[0mht\u001b[0m\u001b[0;34m.\u001b[0m\u001b[0mgensource\u001b[0m\u001b[0;34m(\u001b[0m\u001b[0mN\u001b[0m\u001b[0;34m=\u001b[0m\u001b[0;36m500\u001b[0m\u001b[0;34m,\u001b[0m\u001b[0mspikes\u001b[0m\u001b[0;34m=\u001b[0m\u001b[0mspikes\u001b[0m\u001b[0;34m[\u001b[0m\u001b[0mi\u001b[0m\u001b[0;34m]\u001b[0m\u001b[0;34m,\u001b[0m\u001b[0mlim\u001b[0m\u001b[0;34m=\u001b[0m\u001b[0;36m40\u001b[0m\u001b[0;34m)\u001b[0m\u001b[0;34m\u001b[0m\u001b[0;34m\u001b[0m\u001b[0m\n\u001b[1;32m    196\u001b[0m             \u001b[0mm\u001b[0m\u001b[0;34m=\u001b[0m\u001b[0mht\u001b[0m\u001b[0;34m.\u001b[0m\u001b[0mmeas\u001b[0m\u001b[0;34m(\u001b[0m\u001b[0mu\u001b[0m\u001b[0;34m,\u001b[0m\u001b[0mblur\u001b[0m\u001b[0;34m=\u001b[0m\u001b[0;34m'gaussian'\u001b[0m\u001b[0;34m)\u001b[0m\u001b[0;34m\u001b[0m\u001b[0;34m\u001b[0m\u001b[0m\n",
      "\u001b[0;31mNameError\u001b[0m: name 'ht' is not defined"
     ]
    }
   ],
   "source": [
    "store = ht.exp()"
   ]
  },
  {
   "cell_type": "code",
   "execution_count": 21,
   "metadata": {
    "colab": {
     "base_uri": "https://localhost:8080/",
     "height": 282
    },
    "executionInfo": {
     "elapsed": 339,
     "status": "ok",
     "timestamp": 1622313808296,
     "user": {
      "displayName": "He Lyu",
      "photoUrl": "",
      "userId": "01449226008643862256"
     },
     "user_tz": 240
    },
    "id": "h_gWLae9b_cf",
    "outputId": "5d42f65e-5443-478c-e1dc-c65faafbed74"
   },
   "outputs": [
    {
     "data": {
      "text/plain": [
       "[<matplotlib.lines.Line2D at 0x7f7fea76b0d0>]"
      ]
     },
     "execution_count": 21,
     "metadata": {
      "tags": []
     },
     "output_type": "execute_result"
    },
    {
     "data": {
      "image/png": "[encoded data removed]",
      "text/plain": [
       "<Figure size 432x288 with 1 Axes>"
      ]
     },
     "metadata": {
      "needs_background": "light",
      "tags": []
     },
     "output_type": "display_data"
    }
   ],
   "source": [
    "plt.plot(m)"
   ]
  },
  {
   "cell_type": "code",
   "execution_count": 31,
   "metadata": {
    "colab": {
     "base_uri": "https://localhost:8080/"
    },
    "executionInfo": {
     "elapsed": 101,
     "status": "ok",
     "timestamp": 1622318818159,
     "user": {
      "displayName": "He Lyu",
      "photoUrl": "",
      "userId": "01449226008643862256"
     },
     "user_tz": 240
    },
    "id": "TtSbSTRsa5yN",
    "outputId": "e68a338b-b245-42fc-92ee-086df45aeda6"
   },
   "outputs": [
    {
     "data": {
      "text/plain": [
       "array([[36.48758201, 43.72783889, 34.98154993, 29.60616155, 24.47372213,\n",
       "        28.72919448, 30.56995144, 23.88754168, 27.55660028],\n",
       "       [46.75070987, 39.62659684, 33.19727797, 26.60791321, 23.99043999,\n",
       "        21.77061267, 25.06599865, 24.30022195, 19.3865539 ]])"
      ]
     },
     "execution_count": 31,
     "metadata": {
      "tags": []
     },
     "output_type": "execute_result"
    }
   ],
   "source": [
    "store"
   ]
  },
  {
   "cell_type": "code",
   "execution_count": 114,
   "metadata": {
    "colab": {
     "base_uri": "https://localhost:8080/",
     "height": 282
    },
    "executionInfo": {
     "elapsed": 278,
     "status": "ok",
     "timestamp": 1622319222654,
     "user": {
      "displayName": "He Lyu",
      "photoUrl": "",
      "userId": "01449226008643862256"
     },
     "user_tz": 240
    },
    "id": "3pGfIC5Xvegg",
    "outputId": "bc7e1d0d-6b84-45a8-851d-7ad4583f9b25"
   },
   "outputs": [
    {
     "data": {
      "text/plain": [
       "[<matplotlib.lines.Line2D at 0x7f7fe80955d0>]"
      ]
     },
     "execution_count": 114,
     "metadata": {
      "tags": []
     },
     "output_type": "execute_result"
    },
    {
     "data": {
      "image/png": "[encoded data removed]",
      "text/plain": [
       "<Figure size 432x288 with 1 Axes>"
      ]
     },
     "metadata": {
      "needs_background": "light",
      "tags": []
     },
     "output_type": "display_data"
    }
   ],
   "source": [
    "N = 500\n",
    "lim =40\n",
    "spikes = 5\n",
    "u=torch.zeros((N,1))\n",
    "k = np.random.randint(lim+10,N-lim-10,spikes)\n",
    "u[k] = 50*torch.randn(spikes,1)\n",
    "u = np.cumsum(u)\n",
    "u[:lim] = 0                      \n",
    "u[-lim:] = 0\n",
    "u=abs(u)\n",
    "\n",
    "plt.plot(u)"
   ]
  }
 ],
 "metadata": {
  "colab": {
   "authorship_tag": "ABX9TyMEVpyGUeBVZO2nDBo9N2C1",
   "collapsed_sections": [],
   "name": "test_correctness.ipynb",
   "provenance": []
  },
  "kernelspec": {
   "display_name": "Python 3",
   "language": "python",
   "name": "python3"
  },
  "language_info": {
   "codemirror_mode": {
    "name": "ipython",
    "version": 3
   },
   "file_extension": ".py",
   "mimetype": "text/x-python",
   "name": "python",
   "nbconvert_exporter": "python",
   "pygments_lexer": "ipython3",
   "version": "3.7.6"
  }
 },
 "nbformat": 4,
 "nbformat_minor": 1
}
