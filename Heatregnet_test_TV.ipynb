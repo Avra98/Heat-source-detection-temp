{
 "cells": [
  {
   "cell_type": "code",
   "execution_count": 619,
   "metadata": {
    "scrolled": true
   },
   "outputs": [
    {
     "name": "stdout",
     "output_type": "stream",
     "text": [
      "4900\n",
      "Epoch:1| Average Epoch loss:-0.04106422407286507842| Ndiff loss:-0.0410642241|Sparsity loss:8.4048889883 \n",
      "tensor(-10.1040)\n",
      "tensor(-25.2266)\n",
      "Epoch:2| Average Epoch loss:-0.10105925859237203934| Ndiff loss:-0.1010592586|Sparsity loss:8.4038139921 \n",
      "tensor(-10.1040)\n",
      "tensor(-23.7551)\n",
      "Epoch:3| Average Epoch loss:-0.16867674674306595839| Ndiff loss:-0.1686767467|Sparsity loss:8.4027743599 \n",
      "tensor(-10.1040)\n",
      "tensor(-21.6162)\n",
      "Epoch:4| Average Epoch loss:-0.24535061510241762406| Ndiff loss:-0.2453506151|Sparsity loss:8.4016603034 \n",
      "tensor(-10.1040)\n",
      "tensor(-19.4147)\n",
      "Epoch:5| Average Epoch loss:-0.33571260072747055592| Ndiff loss:-0.3357126007|Sparsity loss:8.4003641348 \n",
      "tensor(-10.1040)\n",
      "tensor(-16.9569)\n",
      "Epoch:6| Average Epoch loss:-0.44645172083864403945| Ndiff loss:-0.4464517208|Sparsity loss:8.3988499687 \n",
      "tensor(-10.1040)\n",
      "tensor(-14.4038)\n",
      "Epoch:7| Average Epoch loss:-0.58226952108801632857| Ndiff loss:-0.5822695211|Sparsity loss:8.3970775096 \n",
      "tensor(-10.1040)\n",
      "tensor(-11.6299)\n",
      "Epoch:8| Average Epoch loss:-0.75133304997366301414| Ndiff loss:-0.7513330500|Sparsity loss:8.3950074104 \n",
      "tensor(-10.1040)\n",
      "tensor(-8.6633)\n",
      "Epoch:9| Average Epoch loss:-0.96177575630801059869| Ndiff loss:-0.9617757563|Sparsity loss:8.3927934309 \n",
      "tensor(-10.1040)\n",
      "tensor(-5.4529)\n",
      "Epoch:10| Average Epoch loss:-1.22517423970358718677| Ndiff loss:-1.2251742397|Sparsity loss:8.3906095870 \n",
      "tensor(-10.1040)\n",
      "tensor(-2.0047)\n",
      "Epoch:11| Average Epoch loss:-1.55242335553071941767| Ndiff loss:-1.5524233555|Sparsity loss:8.3886568209 \n",
      "tensor(-10.1040)\n",
      "tensor(1.3280)\n",
      "Epoch:12| Average Epoch loss:-1.95711237283385530716| Ndiff loss:-1.9571123728|Sparsity loss:8.3872996540 \n",
      "tensor(-10.1040)\n",
      "tensor(4.5819)\n",
      "Epoch:13| Average Epoch loss:-2.45732938270179612772| Ndiff loss:-2.4573293827|Sparsity loss:8.3876062523 \n",
      "tensor(-10.1040)\n",
      "tensor(7.7498)\n",
      "Epoch:14| Average Epoch loss:-3.07317751068241751256| Ndiff loss:-3.0731775107|Sparsity loss:8.3894435869 \n",
      "tensor(-10.1040)\n",
      "tensor(10.7836)\n",
      "Epoch:15| Average Epoch loss:-3.82329617425495271732| Ndiff loss:-3.8232961743|Sparsity loss:8.3935179281 \n",
      "tensor(-10.1040)\n",
      "tensor(13.6495)\n",
      "Epoch:16| Average Epoch loss:-4.72452115161078278760| Ndiff loss:-4.7245211516|Sparsity loss:8.3985130620 \n",
      "tensor(-10.1040)\n",
      "tensor(16.4693)\n",
      "Epoch:17| Average Epoch loss:-5.78735458904079003162| Ndiff loss:-5.7873545890|Sparsity loss:8.4050500537 \n",
      "tensor(-10.1040)\n",
      "tensor(19.5106)\n",
      "Epoch:18| Average Epoch loss:-7.01420779929173221490| Ndiff loss:-7.0142077993|Sparsity loss:8.4118852893 \n",
      "tensor(-10.1040)\n",
      "tensor(22.6139)\n",
      "Epoch:19| Average Epoch loss:-8.39856583936786194045| Ndiff loss:-8.3985658394|Sparsity loss:8.4196159328 \n",
      "tensor(-10.1040)\n",
      "tensor(25.5968)\n",
      "Epoch:20| Average Epoch loss:-9.92503643381808409174| Ndiff loss:-9.9250364338|Sparsity loss:8.4286122734 \n",
      "tensor(-10.1040)\n",
      "tensor(28.2655)\n",
      "Epoch:21| Average Epoch loss:-11.57047290047060528195| Ndiff loss:-11.5704729005|Sparsity loss:8.4390609451 \n",
      "tensor(-10.1040)\n",
      "tensor(30.6755)\n",
      "Epoch:22| Average Epoch loss:-13.29605150014656267388| Ndiff loss:-13.2960515001|Sparsity loss:8.4496211562 \n",
      "tensor(-10.1040)\n",
      "tensor(33.1622)\n",
      "Epoch:23| Average Epoch loss:-15.05250767351850349485| Ndiff loss:-15.0525076735|Sparsity loss:8.4622645741 \n",
      "tensor(-10.1040)\n",
      "tensor(35.0726)\n",
      "Epoch:24| Average Epoch loss:-16.78509897911179749030| Ndiff loss:-16.7850989791|Sparsity loss:8.4735262977 \n",
      "tensor(-10.1040)\n",
      "tensor(36.9196)\n",
      "Epoch:25| Average Epoch loss:-18.44031961655068485584| Ndiff loss:-18.4403196166|Sparsity loss:8.4841579318 \n",
      "tensor(-10.1040)\n",
      "tensor(38.7965)\n",
      "Epoch:26| Average Epoch loss:-19.98847767770556416167| Ndiff loss:-19.9884776777|Sparsity loss:8.4943526030 \n",
      "tensor(-10.1040)\n",
      "tensor(40.4807)\n",
      "Epoch:27| Average Epoch loss:-21.40302019639339192736| Ndiff loss:-21.4030201964|Sparsity loss:8.5031735072 \n",
      "tensor(-10.1040)\n",
      "tensor(41.7968)\n",
      "Epoch:28| Average Epoch loss:-22.68607675041575788555| Ndiff loss:-22.6860767504|Sparsity loss:8.5102682484 \n",
      "tensor(-10.1040)\n",
      "tensor(43.1828)\n",
      "Epoch:29| Average Epoch loss:-23.83792862467096895784| Ndiff loss:-23.8379286247|Sparsity loss:8.5168953469 \n",
      "tensor(-10.1040)\n",
      "tensor(44.5520)\n",
      "Epoch:30| Average Epoch loss:-24.86426197129303972133| Ndiff loss:-24.8642619713|Sparsity loss:8.5227535560 \n",
      "tensor(-10.1040)\n",
      "tensor(45.7363)\n",
      "Epoch:31| Average Epoch loss:-25.78118012390737234796| Ndiff loss:-25.7811801239|Sparsity loss:8.5273246426 \n",
      "tensor(-10.1040)\n",
      "tensor(47.0270)\n",
      "Epoch:32| Average Epoch loss:-26.60233210981146001473| Ndiff loss:-26.6023321098|Sparsity loss:8.5330062453 \n",
      "tensor(-10.1040)\n",
      "tensor(47.8029)\n",
      "Epoch:33| Average Epoch loss:-27.33549511166663137374| Ndiff loss:-27.3354951117|Sparsity loss:8.5360074043 \n",
      "tensor(-10.1040)\n",
      "tensor(48.7484)\n",
      "Epoch:34| Average Epoch loss:-27.99390021382335902445| Ndiff loss:-27.9939002138|Sparsity loss:8.5390846692 \n",
      "tensor(-10.1040)\n",
      "tensor(49.9759)\n",
      "Epoch:35| Average Epoch loss:-28.58662962161295340024| Ndiff loss:-28.5866296216|Sparsity loss:8.5428464704 \n",
      "tensor(-10.1040)\n",
      "tensor(50.7437)\n",
      "Epoch:36| Average Epoch loss:-29.12560775250562628003| Ndiff loss:-29.1256077525|Sparsity loss:8.5452462435 \n",
      "tensor(-10.1040)\n",
      "tensor(51.6517)\n",
      "Epoch:37| Average Epoch loss:-29.62129334838891736581| Ndiff loss:-29.6212933484|Sparsity loss:8.5476349003 \n",
      "tensor(-10.1040)\n",
      "tensor(52.8128)\n",
      "Epoch:38| Average Epoch loss:-30.06448245037734778862| Ndiff loss:-30.0644824504|Sparsity loss:8.5502425775 \n",
      "tensor(-10.1040)\n",
      "tensor(53.2209)\n",
      "Epoch:39| Average Epoch loss:-30.47585963536544184649| Ndiff loss:-30.4758596354|Sparsity loss:8.5520228772 \n",
      "tensor(-10.1040)\n",
      "tensor(53.9619)\n",
      "Epoch:40| Average Epoch loss:-30.84960063337742752765| Ndiff loss:-30.8496006334|Sparsity loss:8.5543795710 \n",
      "tensor(-10.1040)\n",
      "tensor(54.3754)\n",
      "Epoch:41| Average Epoch loss:-31.20013556568034829297| Ndiff loss:-31.2001355657|Sparsity loss:8.5556199306 \n",
      "tensor(-10.1040)\n",
      "tensor(55.2203)\n",
      "Epoch:42| Average Epoch loss:-31.52209095619068079941| Ndiff loss:-31.5220909562|Sparsity loss:8.5576161191 \n",
      "tensor(-10.1040)\n",
      "tensor(55.6940)\n",
      "Epoch:43| Average Epoch loss:-31.82171885906135599953| Ndiff loss:-31.8217188591|Sparsity loss:8.5586794558 \n",
      "tensor(-10.1040)\n",
      "tensor(56.3601)\n",
      "Epoch:44| Average Epoch loss:-32.09315198893980891626| Ndiff loss:-32.0931519889|Sparsity loss:8.5604280428 \n",
      "tensor(-10.1040)\n",
      "tensor(56.8646)\n",
      "Epoch:45| Average Epoch loss:-32.35452451357990355518| Ndiff loss:-32.3545245136|Sparsity loss:8.5618449092 \n",
      "tensor(-10.1040)\n",
      "tensor(57.2448)\n",
      "Epoch:46| Average Epoch loss:-32.59989502939113492630| Ndiff loss:-32.5998950294|Sparsity loss:8.5631002091 \n",
      "tensor(-10.1040)\n",
      "tensor(57.7469)\n",
      "Epoch:47| Average Epoch loss:-32.82300563040640639656| Ndiff loss:-32.8230056304|Sparsity loss:8.5639685719 \n",
      "tensor(-10.1040)\n",
      "tensor(57.9451)\n",
      "Epoch:48| Average Epoch loss:-33.03325471706786942150| Ndiff loss:-33.0332547171|Sparsity loss:8.5647837589 \n",
      "tensor(-10.1040)\n",
      "tensor(58.4922)\n",
      "Epoch:49| Average Epoch loss:-33.23797860341579024634| Ndiff loss:-33.2379786034|Sparsity loss:8.5661395803 \n",
      "tensor(-10.1040)\n",
      "tensor(59.0017)\n",
      "Epoch:50| Average Epoch loss:-33.41701715008907314086| Ndiff loss:-33.4170171501|Sparsity loss:8.5673662688 \n",
      "tensor(-10.1040)\n",
      "tensor(59.0630)\n",
      "Epoch:51| Average Epoch loss:-33.59809642982455102356| Ndiff loss:-33.5980964298|Sparsity loss:8.5680698943 \n",
      "tensor(-10.1040)\n",
      "tensor(59.4588)\n",
      "Epoch:52| Average Epoch loss:-33.77104311648819390257| Ndiff loss:-33.7710431165|Sparsity loss:8.5689605426 \n",
      "tensor(-10.1040)\n",
      "tensor(59.9280)\n",
      "Epoch:53| Average Epoch loss:-33.92823403491549782984| Ndiff loss:-33.9282340349|Sparsity loss:8.5699938281 \n",
      "tensor(-10.1040)\n",
      "tensor(60.0656)\n",
      "Epoch:54| Average Epoch loss:-34.07762368503403394016| Ndiff loss:-34.0776236850|Sparsity loss:8.5703291689 \n",
      "tensor(-10.1040)\n",
      "tensor(60.4042)\n",
      "Epoch:55| Average Epoch loss:-34.22952822993805455098| Ndiff loss:-34.2295282299|Sparsity loss:8.5713785314 \n",
      "tensor(-10.1040)\n",
      "tensor(60.7289)\n",
      "Epoch:56| Average Epoch loss:-34.36306867761913963477| Ndiff loss:-34.3630686776|Sparsity loss:8.5719436173 \n",
      "tensor(-10.1040)\n",
      "tensor(61.1446)\n",
      "Epoch:57| Average Epoch loss:-34.48590231129512773123| Ndiff loss:-34.4859023113|Sparsity loss:8.5730778427 \n",
      "tensor(-10.1040)\n",
      "tensor(60.9885)\n",
      "Epoch:58| Average Epoch loss:-34.61373873667017164735| Ndiff loss:-34.6137387367|Sparsity loss:8.5734371040 \n",
      "tensor(-10.1040)\n",
      "tensor(61.4000)\n"
     ]
    },
    {
     "name": "stdout",
     "output_type": "stream",
     "text": [
      "Epoch:59| Average Epoch loss:-34.73055708528143270541| Ndiff loss:-34.7305570853|Sparsity loss:8.5740574640 \n",
      "tensor(-10.1040)\n",
      "tensor(61.5591)\n",
      "Epoch:60| Average Epoch loss:-34.85080437909410022712| Ndiff loss:-34.8508043791|Sparsity loss:8.5748068115 \n",
      "tensor(-10.1040)\n",
      "tensor(61.7963)\n",
      "Epoch:61| Average Epoch loss:-34.95760535439389116164| Ndiff loss:-34.9576053544|Sparsity loss:8.5756166968 \n",
      "tensor(-10.1040)\n",
      "tensor(61.7841)\n",
      "Epoch:62| Average Epoch loss:-35.06136160095132936476| Ndiff loss:-35.0613616010|Sparsity loss:8.5757951987 \n",
      "tensor(-10.1040)\n",
      "tensor(62.1114)\n",
      "Epoch:63| Average Epoch loss:-35.16889102182719284428| Ndiff loss:-35.1688910218|Sparsity loss:8.5768083194 \n",
      "tensor(-10.1040)\n",
      "tensor(62.0157)\n",
      "Epoch:64| Average Epoch loss:-35.26152720017311281708| Ndiff loss:-35.2615272002|Sparsity loss:8.5770470170 \n",
      "tensor(-10.1040)\n",
      "tensor(62.3671)\n",
      "Epoch:65| Average Epoch loss:-35.35151099349049275133| Ndiff loss:-35.3515109935|Sparsity loss:8.5774788635 \n",
      "tensor(-10.1040)\n",
      "tensor(62.5076)\n",
      "Epoch:66| Average Epoch loss:-35.44710786992622075786| Ndiff loss:-35.4471078699|Sparsity loss:8.5779484298 \n",
      "tensor(-10.1040)\n",
      "tensor(62.8037)\n",
      "Epoch:67| Average Epoch loss:-35.53924561522035929784| Ndiff loss:-35.5392456152|Sparsity loss:8.5791134926 \n",
      "tensor(-10.1040)\n",
      "tensor(62.8346)\n",
      "Epoch:68| Average Epoch loss:-35.61344721115368372466| Ndiff loss:-35.6134472112|Sparsity loss:8.5791750988 \n",
      "tensor(-10.1040)\n",
      "tensor(62.8442)\n",
      "Epoch:69| Average Epoch loss:-35.70232349668989968450| Ndiff loss:-35.7023234967|Sparsity loss:8.5795119639 \n",
      "tensor(-10.1040)\n",
      "tensor(63.2128)\n",
      "Epoch:70| Average Epoch loss:-35.77839063647517292566| Ndiff loss:-35.7783906365|Sparsity loss:8.5799969872 \n",
      "tensor(-10.1040)\n",
      "tensor(63.4301)\n",
      "Epoch:71| Average Epoch loss:-35.85538691615596462725| Ndiff loss:-35.8553869162|Sparsity loss:8.5803550729 \n",
      "tensor(-10.1040)\n",
      "tensor(63.7375)\n",
      "Epoch:72| Average Epoch loss:-35.92527979531051585127| Ndiff loss:-35.9252797953|Sparsity loss:8.5808824419 \n",
      "tensor(-10.1040)\n",
      "tensor(63.7550)\n",
      "Epoch:73| Average Epoch loss:-36.00145768811269419984| Ndiff loss:-36.0014576881|Sparsity loss:8.5812653975 \n",
      "tensor(-10.1040)\n",
      "tensor(63.8728)\n",
      "Epoch:74| Average Epoch loss:-36.06363211329728812871| Ndiff loss:-36.0636321133|Sparsity loss:8.5819285827 \n",
      "tensor(-10.1040)\n",
      "tensor(63.8843)\n",
      "Epoch:75| Average Epoch loss:-36.14250471488268345865| Ndiff loss:-36.1425047149|Sparsity loss:8.5819239639 \n",
      "tensor(-10.1040)\n",
      "tensor(64.1672)\n",
      "Epoch:76| Average Epoch loss:-36.21017245226946812409| Ndiff loss:-36.2101724523|Sparsity loss:8.5822842402 \n",
      "tensor(-10.1040)\n",
      "tensor(64.4422)\n",
      "Epoch:77| Average Epoch loss:-36.26748875125047533174| Ndiff loss:-36.2674887513|Sparsity loss:8.5831012590 \n",
      "tensor(-10.1040)\n",
      "tensor(64.3364)\n",
      "Epoch:78| Average Epoch loss:-36.33370912347375991658| Ndiff loss:-36.3337091235|Sparsity loss:8.5833182982 \n",
      "tensor(-10.1040)\n",
      "tensor(64.4446)\n",
      "Epoch:79| Average Epoch loss:-36.39778879448812887176| Ndiff loss:-36.3977887945|Sparsity loss:8.5836056768 \n",
      "tensor(-10.1040)\n",
      "tensor(64.5208)\n",
      "Epoch:80| Average Epoch loss:-36.45138377293162790238| Ndiff loss:-36.4513837729|Sparsity loss:8.5840224260 \n",
      "tensor(-10.1040)\n",
      "tensor(64.5714)\n",
      "Epoch:81| Average Epoch loss:-36.50572384804172543227| Ndiff loss:-36.5057238480|Sparsity loss:8.5844226578 \n",
      "tensor(-10.1040)\n",
      "tensor(64.5064)\n",
      "Epoch:82| Average Epoch loss:-36.56166263248024961285| Ndiff loss:-36.5616626325|Sparsity loss:8.5846412187 \n",
      "tensor(-10.1040)\n",
      "tensor(64.7604)\n",
      "Epoch:83| Average Epoch loss:-36.62121712981949173127| Ndiff loss:-36.6212171298|Sparsity loss:8.5848475515 \n",
      "tensor(-10.1040)\n",
      "tensor(64.7680)\n",
      "Epoch:84| Average Epoch loss:-36.67597303614338954958| Ndiff loss:-36.6759730361|Sparsity loss:8.5853072591 \n",
      "tensor(-10.1040)\n",
      "tensor(65.1605)\n",
      "Epoch:85| Average Epoch loss:-36.73035458506979722415| Ndiff loss:-36.7303545851|Sparsity loss:8.5857657396 \n",
      "tensor(-10.1040)\n",
      "tensor(65.1618)\n",
      "Epoch:86| Average Epoch loss:-36.78128040835118639507| Ndiff loss:-36.7812804084|Sparsity loss:8.5856731836 \n",
      "tensor(-10.1040)\n",
      "tensor(65.4373)\n",
      "Epoch:87| Average Epoch loss:-36.82914218447299958825| Ndiff loss:-36.8291421845|Sparsity loss:8.5862419479 \n",
      "tensor(-10.1040)\n",
      "tensor(65.4854)\n",
      "Epoch:88| Average Epoch loss:-36.87957375280054606037| Ndiff loss:-36.8795737528|Sparsity loss:8.5866406831 \n",
      "tensor(-10.1040)\n",
      "tensor(65.5576)\n",
      "Epoch:89| Average Epoch loss:-36.92269110579048430054| Ndiff loss:-36.9226911058|Sparsity loss:8.5867336134 \n",
      "tensor(-10.1040)\n",
      "tensor(65.6268)\n",
      "Epoch:90| Average Epoch loss:-36.97090655070635989432| Ndiff loss:-36.9709065507|Sparsity loss:8.5867951715 \n",
      "tensor(-10.1040)\n",
      "tensor(65.8374)\n",
      "Epoch:91| Average Epoch loss:-37.01929782662551104977| Ndiff loss:-37.0192978266|Sparsity loss:8.5875630663 \n",
      "tensor(-10.1040)\n",
      "tensor(65.9009)\n",
      "Epoch:92| Average Epoch loss:-37.06975246998113959762| Ndiff loss:-37.0697524700|Sparsity loss:8.5876686361 \n",
      "tensor(-10.1040)\n",
      "tensor(66.2499)\n",
      "Epoch:93| Average Epoch loss:-37.10665633378176408996| Ndiff loss:-37.1066563338|Sparsity loss:8.5878100977 \n",
      "tensor(-10.1040)\n",
      "tensor(66.1852)\n",
      "Epoch:94| Average Epoch loss:-37.15772357099230305266| Ndiff loss:-37.1577235710|Sparsity loss:8.5882551077 \n",
      "tensor(-10.1040)\n",
      "tensor(66.2167)\n",
      "Epoch:95| Average Epoch loss:-37.20334602185220518322| Ndiff loss:-37.2033460219|Sparsity loss:8.5886078870 \n",
      "tensor(-10.1040)\n",
      "tensor(66.1891)\n",
      "Epoch:96| Average Epoch loss:-37.25162451147411246666| Ndiff loss:-37.2516245115|Sparsity loss:8.5887820947 \n",
      "tensor(-10.1040)\n",
      "tensor(66.2742)\n",
      "Epoch:97| Average Epoch loss:-37.27888772626368307783| Ndiff loss:-37.2788877263|Sparsity loss:8.5888652441 \n",
      "tensor(-10.1040)\n",
      "tensor(66.1949)\n",
      "Epoch:98| Average Epoch loss:-37.31860918230528767481| Ndiff loss:-37.3186091823|Sparsity loss:8.5892302503 \n",
      "tensor(-10.1040)\n",
      "tensor(66.5151)\n",
      "Epoch:99| Average Epoch loss:-37.36245904754212432408| Ndiff loss:-37.3624590475|Sparsity loss:8.5893000984 \n",
      "tensor(-10.1040)\n",
      "tensor(66.5698)\n",
      "Epoch:100| Average Epoch loss:-37.39870729058015541568| Ndiff loss:-37.3987072906|Sparsity loss:8.5894485943 \n",
      "tensor(-10.1040)\n",
      "tensor(66.7846)\n",
      "Epoch:101| Average Epoch loss:-37.44621299429743288556| Ndiff loss:-37.4462129943|Sparsity loss:8.5899001585 \n",
      "tensor(-10.1040)\n",
      "tensor(66.8914)\n",
      "Epoch:102| Average Epoch loss:-37.48490033287174583165| Ndiff loss:-37.4849003329|Sparsity loss:8.5897489829 \n",
      "tensor(-10.1040)\n",
      "tensor(67.2048)\n",
      "Epoch:103| Average Epoch loss:-37.51517103171430278508| Ndiff loss:-37.5151710317|Sparsity loss:8.5906492852 \n",
      "tensor(-10.1040)\n",
      "tensor(67.2214)\n",
      "Epoch:104| Average Epoch loss:-37.55658846034803843850| Ndiff loss:-37.5565884603|Sparsity loss:8.5909605366 \n",
      "tensor(-10.1040)\n",
      "tensor(67.1864)\n",
      "Epoch:105| Average Epoch loss:-37.59393549209673324185| Ndiff loss:-37.5939354921|Sparsity loss:8.5907751813 \n",
      "tensor(-10.1040)\n",
      "tensor(67.5113)\n",
      "Epoch:106| Average Epoch loss:-37.62826702209029150481| Ndiff loss:-37.6282670221|Sparsity loss:8.5911118677 \n",
      "tensor(-10.1040)\n",
      "tensor(67.3004)\n",
      "Epoch:107| Average Epoch loss:-37.66831530240319381164| Ndiff loss:-37.6683153024|Sparsity loss:8.5912215690 \n",
      "tensor(-10.1040)\n",
      "tensor(67.5389)\n",
      "Epoch:108| Average Epoch loss:-37.70399057090840955198| Ndiff loss:-37.7039905709|Sparsity loss:8.5916740299 \n",
      "tensor(-10.1040)\n",
      "tensor(67.5023)\n",
      "Epoch:109| Average Epoch loss:-37.73657014000143306021| Ndiff loss:-37.7365701400|Sparsity loss:8.5920636021 \n",
      "tensor(-10.1040)\n",
      "tensor(67.4082)\n",
      "Epoch:110| Average Epoch loss:-37.76522241424738268734| Ndiff loss:-37.7652224142|Sparsity loss:8.5917910353 \n",
      "tensor(-10.1040)\n",
      "tensor(67.6434)\n",
      "Epoch:111| Average Epoch loss:-37.80501872006352925837| Ndiff loss:-37.8050187201|Sparsity loss:8.5920826956 \n",
      "tensor(-10.1040)\n",
      "tensor(67.8098)\n",
      "Epoch:112| Average Epoch loss:-37.83826879085907535227| Ndiff loss:-37.8382687909|Sparsity loss:8.5926568575 \n",
      "tensor(-10.1040)\n",
      "tensor(68.0298)\n",
      "Epoch:113| Average Epoch loss:-37.87843695779345409846| Ndiff loss:-37.8784369578|Sparsity loss:8.5926593901 \n",
      "tensor(-10.1040)\n",
      "tensor(68.0157)\n",
      "Epoch:114| Average Epoch loss:-37.90021939478130974521| Ndiff loss:-37.9002193948|Sparsity loss:8.5927224363 \n",
      "tensor(-10.1040)\n",
      "tensor(68.1694)\n",
      "Epoch:115| Average Epoch loss:-37.93192911246642751166| Ndiff loss:-37.9319291125|Sparsity loss:8.5933383522 \n",
      "tensor(-10.1040)\n",
      "tensor(68.1459)\n",
      "Epoch:116| Average Epoch loss:-37.96593990656704420417| Ndiff loss:-37.9659399066|Sparsity loss:8.5933969971 \n",
      "tensor(-10.1040)\n",
      "tensor(68.1851)\n"
     ]
    },
    {
     "name": "stdout",
     "output_type": "stream",
     "text": [
      "Epoch:117| Average Epoch loss:-37.99652303220516103011| Ndiff loss:-37.9965230322|Sparsity loss:8.5931429453 \n",
      "tensor(-10.1040)\n",
      "tensor(68.3382)\n",
      "Epoch:118| Average Epoch loss:-38.02987458036238876957| Ndiff loss:-38.0298745804|Sparsity loss:8.5941254971 \n",
      "tensor(-10.1040)\n",
      "tensor(68.2818)\n",
      "Epoch:119| Average Epoch loss:-38.05185644229122488014| Ndiff loss:-38.0518564423|Sparsity loss:8.5936531768 \n",
      "tensor(-10.1040)\n",
      "tensor(68.5169)\n",
      "Epoch:120| Average Epoch loss:-38.08506740319217698243| Ndiff loss:-38.0850674032|Sparsity loss:8.5937542650 \n",
      "tensor(-10.1040)\n",
      "tensor(68.9905)\n",
      "Epoch:121| Average Epoch loss:-38.11294726816898759125| Ndiff loss:-38.1129472682|Sparsity loss:8.5944634054 \n",
      "tensor(-10.1040)\n",
      "tensor(68.8262)\n",
      "Epoch:122| Average Epoch loss:-38.15038558742089236375| Ndiff loss:-38.1503855874|Sparsity loss:8.5942349733 \n",
      "tensor(-10.1040)\n",
      "tensor(68.9311)\n",
      "Epoch:123| Average Epoch loss:-38.17483486420314875431| Ndiff loss:-38.1748348642|Sparsity loss:8.5950482012 \n",
      "tensor(-10.1040)\n",
      "tensor(68.8809)\n",
      "Epoch:124| Average Epoch loss:-38.20236189405488858029| Ndiff loss:-38.2023618941|Sparsity loss:8.5946614162 \n",
      "tensor(-10.1040)\n",
      "tensor(69.3274)\n",
      "Epoch:125| Average Epoch loss:-38.23245811885651335160| Ndiff loss:-38.2324581189|Sparsity loss:8.5948478048 \n",
      "tensor(-10.1040)\n",
      "tensor(69.4563)\n",
      "Epoch:126| Average Epoch loss:-38.25504273126255583293| Ndiff loss:-38.2550427313|Sparsity loss:8.5954779283 \n",
      "tensor(-10.1040)\n",
      "tensor(69.1597)\n",
      "Epoch:127| Average Epoch loss:-38.27775858954583299010| Ndiff loss:-38.2777585895|Sparsity loss:8.5953716351 \n",
      "tensor(-10.1040)\n",
      "tensor(69.3019)\n",
      "Epoch:128| Average Epoch loss:-38.31492556610776745174| Ndiff loss:-38.3149255661|Sparsity loss:8.5955595423 \n",
      "tensor(-10.1040)\n",
      "tensor(69.3863)\n",
      "Epoch:129| Average Epoch loss:-38.34013455906551115504| Ndiff loss:-38.3401345591|Sparsity loss:8.5956233741 \n",
      "tensor(-10.1040)\n",
      "tensor(69.5557)\n",
      "Epoch:130| Average Epoch loss:-38.37272944215329317785| Ndiff loss:-38.3727294422|Sparsity loss:8.5957661622 \n",
      "tensor(-10.1040)\n",
      "tensor(69.5710)\n",
      "Epoch:131| Average Epoch loss:-38.39863859011188651493| Ndiff loss:-38.3986385901|Sparsity loss:8.5959255786 \n",
      "tensor(-10.1040)\n",
      "tensor(69.8126)\n",
      "Epoch:132| Average Epoch loss:-38.42427828364161968011| Ndiff loss:-38.4242782836|Sparsity loss:8.5961232569 \n",
      "tensor(-10.1040)\n",
      "tensor(69.9045)\n",
      "Epoch:133| Average Epoch loss:-38.44837768794326393618| Ndiff loss:-38.4483776879|Sparsity loss:8.5964084049 \n",
      "tensor(-10.1040)\n",
      "tensor(70.1412)\n",
      "Epoch:134| Average Epoch loss:-38.47758752672717008636| Ndiff loss:-38.4775875267|Sparsity loss:8.5960723204 \n",
      "tensor(-10.1040)\n",
      "tensor(70.2628)\n",
      "Epoch:135| Average Epoch loss:-38.49763721199455801525| Ndiff loss:-38.4976372120|Sparsity loss:8.5970867455 \n",
      "tensor(-10.1040)\n",
      "tensor(69.9934)\n",
      "Epoch:136| Average Epoch loss:-38.52738450683624193971| Ndiff loss:-38.5273845068|Sparsity loss:8.5968732843 \n",
      "tensor(-10.1040)\n",
      "tensor(70.1210)\n",
      "Epoch:137| Average Epoch loss:-38.54958582599997640727| Ndiff loss:-38.5495858260|Sparsity loss:8.5966066150 \n",
      "tensor(-10.1040)\n",
      "tensor(70.4810)\n",
      "Epoch:138| Average Epoch loss:-38.57705531689222056002| Ndiff loss:-38.5770553169|Sparsity loss:8.5968639798 \n",
      "tensor(-10.1040)\n",
      "tensor(70.5449)\n",
      "Epoch:139| Average Epoch loss:-38.60167850826669422304| Ndiff loss:-38.6016785083|Sparsity loss:8.5977121328 \n",
      "tensor(-10.1040)\n",
      "tensor(70.6061)\n",
      "Epoch:140| Average Epoch loss:-38.62150038268762131111| Ndiff loss:-38.6215003827|Sparsity loss:8.5971577291 \n",
      "tensor(-10.1040)\n",
      "tensor(70.7459)\n",
      "Epoch:141| Average Epoch loss:-38.64967294388289786866| Ndiff loss:-38.6496729439|Sparsity loss:8.5976654253 \n",
      "tensor(-10.1040)\n",
      "tensor(70.7105)\n",
      "Epoch:142| Average Epoch loss:-38.67245538190229581232| Ndiff loss:-38.6724553819|Sparsity loss:8.5982894096 \n",
      "tensor(-10.1040)\n",
      "tensor(70.4692)\n",
      "Epoch:143| Average Epoch loss:-38.68259300362341690516| Ndiff loss:-38.6825930036|Sparsity loss:8.5975220899 \n",
      "tensor(-10.1040)\n",
      "tensor(70.9209)\n",
      "Epoch:144| Average Epoch loss:-38.71363369884326743886| Ndiff loss:-38.7136336988|Sparsity loss:8.5980534689 \n",
      "tensor(-10.1040)\n",
      "tensor(71.1013)\n",
      "Epoch:145| Average Epoch loss:-38.73419889466354248952| Ndiff loss:-38.7341988947|Sparsity loss:8.5980295840 \n",
      "tensor(-10.1040)\n",
      "tensor(71.3302)\n",
      "Epoch:146| Average Epoch loss:-38.75607102323456132353| Ndiff loss:-38.7560710232|Sparsity loss:8.5983764926 \n",
      "tensor(-10.1040)\n",
      "tensor(71.3418)\n",
      "Epoch:147| Average Epoch loss:-38.78560215679589617821| Ndiff loss:-38.7856021568|Sparsity loss:8.5985218351 \n",
      "tensor(-10.1040)\n",
      "tensor(71.2216)\n",
      "Epoch:148| Average Epoch loss:-38.80349461959872314765| Ndiff loss:-38.8034946196|Sparsity loss:8.5985994940 \n",
      "tensor(-10.1040)\n",
      "tensor(71.4194)\n",
      "Epoch:149| Average Epoch loss:-38.81903012454577606150| Ndiff loss:-38.8190301245|Sparsity loss:8.5987569575 \n",
      "tensor(-10.1040)\n",
      "tensor(71.6176)\n",
      "Epoch:150| Average Epoch loss:-38.84545231220532457428| Ndiff loss:-38.8454523122|Sparsity loss:8.5988829865 \n",
      "tensor(-10.1040)\n",
      "tensor(71.4673)\n",
      "Epoch:151| Average Epoch loss:-38.86726350368920890332| Ndiff loss:-38.8672635037|Sparsity loss:8.5987701979 \n",
      "tensor(-10.1040)\n",
      "tensor(71.9473)\n",
      "Epoch:152| Average Epoch loss:-38.89483284061967793832| Ndiff loss:-38.8948328406|Sparsity loss:8.5991112235 \n",
      "tensor(-10.1040)\n",
      "tensor(71.8332)\n",
      "Epoch:153| Average Epoch loss:-38.90553628552473242053| Ndiff loss:-38.9055362855|Sparsity loss:8.5992280981 \n",
      "tensor(-10.1040)\n",
      "tensor(72.1002)\n",
      "Epoch:154| Average Epoch loss:-38.93133530667703467998| Ndiff loss:-38.9313353067|Sparsity loss:8.5991483095 \n",
      "tensor(-10.1040)\n",
      "tensor(72.1625)\n",
      "Epoch:155| Average Epoch loss:-38.95334083088931720340| Ndiff loss:-38.9533408309|Sparsity loss:8.5992837489 \n",
      "tensor(-10.1040)\n",
      "tensor(72.3031)\n",
      "Epoch:156| Average Epoch loss:-38.96705080779818075598| Ndiff loss:-38.9670508078|Sparsity loss:8.5995535307 \n",
      "tensor(-10.1040)\n",
      "tensor(72.2159)\n",
      "Epoch:157| Average Epoch loss:-38.99100370153965400277| Ndiff loss:-38.9910037015|Sparsity loss:8.5996603032 \n",
      "tensor(-10.1040)\n",
      "tensor(72.4851)\n",
      "Epoch:158| Average Epoch loss:-39.01058109823304675956| Ndiff loss:-39.0105810982|Sparsity loss:8.6000257450 \n",
      "tensor(-10.1040)\n",
      "tensor(72.5648)\n",
      "Epoch:159| Average Epoch loss:-39.03132351684433842820| Ndiff loss:-39.0313235168|Sparsity loss:8.6000790190 \n",
      "tensor(-10.1040)\n",
      "tensor(72.1514)\n",
      "Epoch:160| Average Epoch loss:-39.04563733825860083471| Ndiff loss:-39.0456373383|Sparsity loss:8.5998910620 \n",
      "tensor(-10.1040)\n",
      "tensor(72.5079)\n",
      "Epoch:161| Average Epoch loss:-39.07290387728635749909| Ndiff loss:-39.0729038773|Sparsity loss:8.6000419618 \n",
      "tensor(-10.1040)\n",
      "tensor(72.7363)\n",
      "Epoch:162| Average Epoch loss:-39.08366191247509391360| Ndiff loss:-39.0836619125|Sparsity loss:8.6004027863 \n",
      "tensor(-10.1040)\n",
      "tensor(72.6192)\n",
      "Epoch:163| Average Epoch loss:-39.10223899783269985164| Ndiff loss:-39.1022389978|Sparsity loss:8.6004254287 \n",
      "tensor(-10.1040)\n",
      "tensor(72.5603)\n",
      "Epoch:164| Average Epoch loss:-39.11867941250160640720| Ndiff loss:-39.1186794125|Sparsity loss:8.5999261305 \n",
      "tensor(-10.1040)\n",
      "tensor(73.0037)\n",
      "Epoch:165| Average Epoch loss:-39.13791198867320275667| Ndiff loss:-39.1379119887|Sparsity loss:8.6009835066 \n",
      "tensor(-10.1040)\n",
      "tensor(72.7801)\n",
      "Epoch:166| Average Epoch loss:-39.15670827827755573480| Ndiff loss:-39.1567082783|Sparsity loss:8.6006233814 \n",
      "tensor(-10.1040)\n",
      "tensor(72.9042)\n",
      "Epoch:167| Average Epoch loss:-39.17744954299542570197| Ndiff loss:-39.1774495430|Sparsity loss:8.6007436775 \n",
      "tensor(-10.1040)\n",
      "tensor(73.1943)\n",
      "Epoch:168| Average Epoch loss:-39.20212035366589020668| Ndiff loss:-39.2021203537|Sparsity loss:8.6012584509 \n",
      "tensor(-10.1040)\n",
      "tensor(73.1266)\n",
      "Epoch:169| Average Epoch loss:-39.21387643510092146926| Ndiff loss:-39.2138764351|Sparsity loss:8.6010861629 \n",
      "tensor(-10.1040)\n",
      "tensor(73.2472)\n",
      "Epoch:170| Average Epoch loss:-39.23688659011323665027| Ndiff loss:-39.2368865901|Sparsity loss:8.6010928933 \n",
      "tensor(-10.1040)\n",
      "tensor(73.3160)\n",
      "Epoch:171| Average Epoch loss:-39.25108900326963379257| Ndiff loss:-39.2510890033|Sparsity loss:8.6011376644 \n",
      "tensor(-10.1040)\n",
      "tensor(73.5986)\n"
     ]
    },
    {
     "ename": "KeyboardInterrupt",
     "evalue": "",
     "output_type": "error",
     "traceback": [
      "\u001b[1;31m---------------------------------------------------------------------------\u001b[0m",
      "\u001b[1;31mKeyboardInterrupt\u001b[0m                         Traceback (most recent call last)",
      "\u001b[1;32m<ipython-input-619-a9fc3fd2071c>\u001b[0m in \u001b[0;36m<module>\u001b[1;34m()\u001b[0m\n\u001b[0;32m    107\u001b[0m         \u001b[1;31m# Backward and optimize\u001b[0m\u001b[1;33m\u001b[0m\u001b[1;33m\u001b[0m\u001b[0m\n\u001b[0;32m    108\u001b[0m \u001b[1;33m\u001b[0m\u001b[0m\n\u001b[1;32m--> 109\u001b[1;33m         \u001b[0mloss1\u001b[0m\u001b[1;33m.\u001b[0m\u001b[0mbackward\u001b[0m\u001b[1;33m(\u001b[0m\u001b[1;33m)\u001b[0m\u001b[1;33m\u001b[0m\u001b[0m\n\u001b[0m\u001b[0;32m    110\u001b[0m         \u001b[0moptimizer\u001b[0m\u001b[1;33m.\u001b[0m\u001b[0mstep\u001b[0m\u001b[1;33m(\u001b[0m\u001b[1;33m)\u001b[0m\u001b[1;33m\u001b[0m\u001b[0m\n\u001b[0;32m    111\u001b[0m \u001b[1;33m\u001b[0m\u001b[0m\n",
      "\u001b[1;32mC:\\Program Files (x86)\\Microsoft Visual Studio\\Shared\\Anaconda3_64\\lib\\site-packages\\torch\\tensor.py\u001b[0m in \u001b[0;36mbackward\u001b[1;34m(self, gradient, retain_graph, create_graph)\u001b[0m\n\u001b[0;32m    193\u001b[0m                 \u001b[0mproducts\u001b[0m\u001b[1;33m.\u001b[0m \u001b[0mDefaults\u001b[0m \u001b[0mto\u001b[0m\u001b[0;31m \u001b[0m\u001b[0;31m`\u001b[0m\u001b[0;31m`\u001b[0m\u001b[1;32mFalse\u001b[0m\u001b[0;31m`\u001b[0m\u001b[0;31m`\u001b[0m\u001b[1;33m.\u001b[0m\u001b[1;33m\u001b[0m\u001b[0m\n\u001b[0;32m    194\u001b[0m         \"\"\"\n\u001b[1;32m--> 195\u001b[1;33m         \u001b[0mtorch\u001b[0m\u001b[1;33m.\u001b[0m\u001b[0mautograd\u001b[0m\u001b[1;33m.\u001b[0m\u001b[0mbackward\u001b[0m\u001b[1;33m(\u001b[0m\u001b[0mself\u001b[0m\u001b[1;33m,\u001b[0m \u001b[0mgradient\u001b[0m\u001b[1;33m,\u001b[0m \u001b[0mretain_graph\u001b[0m\u001b[1;33m,\u001b[0m \u001b[0mcreate_graph\u001b[0m\u001b[1;33m)\u001b[0m\u001b[1;33m\u001b[0m\u001b[0m\n\u001b[0m\u001b[0;32m    196\u001b[0m \u001b[1;33m\u001b[0m\u001b[0m\n\u001b[0;32m    197\u001b[0m     \u001b[1;32mdef\u001b[0m \u001b[0mregister_hook\u001b[0m\u001b[1;33m(\u001b[0m\u001b[0mself\u001b[0m\u001b[1;33m,\u001b[0m \u001b[0mhook\u001b[0m\u001b[1;33m)\u001b[0m\u001b[1;33m:\u001b[0m\u001b[1;33m\u001b[0m\u001b[0m\n",
      "\u001b[1;32mC:\\Program Files (x86)\\Microsoft Visual Studio\\Shared\\Anaconda3_64\\lib\\site-packages\\torch\\autograd\\__init__.py\u001b[0m in \u001b[0;36mbackward\u001b[1;34m(tensors, grad_tensors, retain_graph, create_graph, grad_variables)\u001b[0m\n\u001b[0;32m     97\u001b[0m     Variable._execution_engine.run_backward(\n\u001b[0;32m     98\u001b[0m         \u001b[0mtensors\u001b[0m\u001b[1;33m,\u001b[0m \u001b[0mgrad_tensors\u001b[0m\u001b[1;33m,\u001b[0m \u001b[0mretain_graph\u001b[0m\u001b[1;33m,\u001b[0m \u001b[0mcreate_graph\u001b[0m\u001b[1;33m,\u001b[0m\u001b[1;33m\u001b[0m\u001b[0m\n\u001b[1;32m---> 99\u001b[1;33m         allow_unreachable=True)  # allow_unreachable flag\n\u001b[0m\u001b[0;32m    100\u001b[0m \u001b[1;33m\u001b[0m\u001b[0m\n\u001b[0;32m    101\u001b[0m \u001b[1;33m\u001b[0m\u001b[0m\n",
      "\u001b[1;31mKeyboardInterrupt\u001b[0m: "
     ]
    }
   ],
   "source": [
    "import torch\n",
    "import torch.nn as nn\n",
    "import torch.nn.functional as F\n",
    "\n",
    "\n",
    "class RegNet(nn.Module):\n",
    "    def __init__(self):\n",
    "        super(RegNet, self).__init__()\n",
    "        self.fc1 = nn.Linear(500,500)\n",
    "        self.fc2 = nn.Linear(500,500)\n",
    "        self.fc3 = nn.Linear(500,1,bias=False)\n",
    "        self.dropout = nn.Dropout(0.25)\n",
    "        self.thr = nn.Sigmoid()\n",
    "        self.thr1 = nn.ReLU()\n",
    "        self.thr2 = nn.LeakyReLU(0.1)\n",
    "\n",
    "    def forward(self,x):\n",
    "       # x=self.thr2(self.fc1(x))\n",
    "        x=self.thr2(self.fc2(x))\n",
    "        x=self.thr(self.fc3(x))\n",
    "        return x \n",
    "\n",
    "#import hdf5storage\n",
    "#mat = hdf5storage.loadmat('wrongsource.mat') \n",
    "import scipy.io\n",
    "mat = scipy.io.loadmat('wrongsource1.mat')\n",
    "\n",
    "import torch\n",
    "#import h5py\n",
    "import numpy as np\n",
    "import torch.nn as nn\n",
    "import torch.nn.functional as F\n",
    "import matplotlib.pylab as plt\n",
    "import pickle\n",
    "import scipy.io as sio\n",
    "dtype = torch.float32\n",
    "device = torch.device(\"cpu\")\n",
    "\n",
    "torch.set_default_dtype(torch.float32)\n",
    "H_right=mat['source']\n",
    "H_wrong=mat['wsource']\n",
    "\n",
    "#Convert into torch arrays\n",
    "Hr=torch.from_numpy(H_right)\n",
    "Hw=torch.from_numpy(H_wrong)\n",
    "\n",
    "nValidation=100\n",
    "nTrain=Hr.shape[1]-nValidation\n",
    "\n",
    "print(nTrain)\n",
    "#Hr=Hr[:,0:500]\n",
    "#Hw=Hw[:,0:500]\n",
    "# initial scrambling \n",
    "perm = torch.randperm(nTrain+nValidation)\n",
    "Hr = Hr[:,perm]\n",
    "Hw = Hw[:,perm]\n",
    "\n",
    "# validation dataset\n",
    "val_r = Hr[:,-nValidation:]\n",
    "val_w = Hw[:,-nValidation:]\n",
    "\n",
    "\n",
    "N=50\n",
    "nEpochs=1000\n",
    "\n",
    "net1 = RegNet()\n",
    "net1 = net1.float()\n",
    "\n",
    "# Loss and optimizer\n",
    "learning_rate = 1e-3\n",
    "optimizer = torch.optim.SGD(net1.parameters(), lr=learning_rate,weight_decay=1e-2)\n",
    "\n",
    "\n",
    "#with torch.no_grad():\n",
    "#    net1.fc2.weight.data = torch.abs(net1.fc2.weight.data)/torch.norm(net1.fc2.weight.data,2)\n",
    "\n",
    "\n",
    "beta=0.0007\n",
    "beta1=0.0007\n",
    "beta5 = 0.0002\n",
    "for t in range(nEpochs):\n",
    "    tloss=0\n",
    "    ndloss=0\n",
    "    sploss = 0\n",
    "    perm = torch.randperm(nTrain)\n",
    "    for b_ix in np.arange(0,nTrain,N):\n",
    "        \n",
    "        \n",
    "        ##Pre-processing sparse codes for input \n",
    "        #xr=Hr[:,perm[b_ix:b_ix+N]].reshape(N,Hr.shape[0])\n",
    "        #xw=Hw[:,perm[b_ix:b_ix+N]].reshape(N,Hw.shape[0])\n",
    "        xr=Hr[:,perm[b_ix:b_ix+N]].transpose(0,1) #+ torch.rand(N,500).type(dtype=torch.float64)*0.1\n",
    "        xw=Hw[:,perm[b_ix:b_ix+N]].transpose(0,1) #+ torch.rand(N,500).type(dtype=torch.float64)*0.1\n",
    "        optimizer.zero_grad()\n",
    "    \n",
    "        normr = net1(xr.float()).type(dtype=torch.float64)\n",
    "        normw = net1(xw.float()).type(dtype=torch.float64)\n",
    "        spp = beta5 *torch.abs((normr - torch.abs(torch.sum(xr,1)))).sum()\n",
    "        ndiff = (normr-normw).sum() \n",
    "        \n",
    "        \n",
    "        #loss1 = (normr-normw).sum() + beta5*torch.abs((normr.sum()-torch.sum(torch.abs(xr))))#/(N*(torch.max(torch.abs(normw-normr)))) # + beta*torch.norm(net1.fc2.weight.data,2) + beta1*torch.norm(net1.fc1.weight.data,2)\n",
    "        loss1 =  ndiff #+ spp\n",
    "        \n",
    "        \n",
    "       \n",
    "        # Backward and optimize\n",
    "        \n",
    "        loss1.backward()\n",
    "        optimizer.step()\n",
    "        \n",
    "        #for p in net1.parameters():\n",
    "        #    p.data.clamp_(0)\n",
    "        #with torch.no_grad():\n",
    "        #    net1.fc1.weight.data = self.thr(net1.fc1.weight.data)  ##Projecting the weights to positive\n",
    "        #    net1.fc2.weight.data = self.thr(net1.fc2.weight.data)\n",
    "        tloss=tloss+loss1\n",
    "        ndloss = ndloss + ndiff\n",
    "        sploss = sploss + spp\n",
    "        \n",
    "        \n",
    "        with torch.no_grad():\n",
    "            #loss = (normw-normr).sum()/(N*(torch.max(torch.abs(normw-normr))))\n",
    "            #tl=tl+loss\n",
    "\n",
    "                \n",
    "            if b_ix / N == (nTrain/N)-1:\n",
    "                print('Epoch:{:d}| Average Epoch loss:{:.20f}| Ndiff loss:{:.10f}|Sparsity loss:{:.10f} '.format(t+1, tloss/(nTrain/N),ndloss/(nTrain/N),sploss/(nTrain/N)))\n",
    "                print(net1.fc1.weight.sum())\n",
    "                print(net1.fc2.weight.sum())\n",
    "                "
   ]
  },
  {
   "cell_type": "code",
   "execution_count": 652,
   "metadata": {
    "scrolled": true
   },
   "outputs": [],
   "source": [
    "#main problem \n",
    "import numpy as np\n",
    "import torch \n",
    "from numpy.linalg import matrix_power\n",
    "N=500\n",
    "alpha=5\n",
    "s=1/(2*alpha)\n",
    "A=torch.zeros((N,N))\n",
    "\n",
    "for i in range(0,N-1):\n",
    "    A[i,i]=1-2*s\n",
    "    A[i,i-1]=s\n",
    "    A[i,i+1]=s\n",
    "    \n",
    "\n",
    "#A[:,0]=0\n",
    "#A[0,1]=0\n",
    "#A[:,N-1]=0\n",
    "#A[0,:]=0\n",
    "#A[N-1,N-2]=0\n",
    "#A[N-1,N-1] =0\n",
    "u=torch.zeros((N,1))\n",
    "#u[100]=50.56\n",
    "#u[130]=100.55\n",
    "#u[150]=100.55\n",
    "#u[400]=100.44\n",
    "\n",
    "k = np.random.randint(0,N-50,10)\n",
    "u[k+25] = 50*torch.randn(10,1)\n",
    "u = np.cumsum(u)\n",
    "if np.linalg.norm(u[u<0])<np.linalg.norm(u[u>0]):\n",
    "    u[u<0]=0\n",
    "else:\n",
    "    u[u>0] =0 \n",
    "    u = -u\n",
    "Ncount=2500\n",
    "\n",
    "Fw=torch.matrix_power(A, Ncount)\n",
    "meas=Fw@u\n",
    "noise = torch.randn(meas.shape)*1\n",
    "measn= meas+noise"
   ]
  },
  {
   "cell_type": "code",
   "execution_count": 529,
   "metadata": {},
   "outputs": [
    {
     "data": {
      "text/plain": [
       "21.479925"
      ]
     },
     "execution_count": 529,
     "metadata": {},
     "output_type": "execute_result"
    }
   ],
   "source": [
    "meas=Fw@u\n",
    "np.linalg.norm(meas-measn)"
   ]
  },
  {
   "cell_type": "code",
   "execution_count": 653,
   "metadata": {
    "scrolled": true
   },
   "outputs": [
    {
     "data": {
      "text/plain": [
       "[<matplotlib.lines.Line2D at 0x1a029d2a9e8>]"
      ]
     },
     "execution_count": 653,
     "metadata": {},
     "output_type": "execute_result"
    },
    {
     "data": {
      "image/png": "[encoded data removed]",
      "text/plain": [
       "<matplotlib.figure.Figure at 0x1a029d2a2b0>"
      ]
     },
     "metadata": {},
     "output_type": "display_data"
    }
   ],
   "source": [
    "plt.plot(meas.numpy())\n",
    "plt.plot(u.numpy())"
   ]
  },
  {
   "cell_type": "code",
   "execution_count": 334,
   "metadata": {},
   "outputs": [],
   "source": [
    "Fw=torch.matrix_power(A, Ncount+0) + torch.eye(N)*1e-4\n",
    "x1=np.linalg.solve(Fw,meas)"
   ]
  },
  {
   "cell_type": "code",
   "execution_count": 335,
   "metadata": {
    "scrolled": true
   },
   "outputs": [
    {
     "data": {
      "text/plain": [
       "[<matplotlib.lines.Line2D at 0x1a01749ce48>]"
      ]
     },
     "execution_count": 335,
     "metadata": {},
     "output_type": "execute_result"
    },
    {
     "data": {
      "image/png": "[encoded data removed]",
      "text/plain": [
       "<matplotlib.figure.Figure at 0x1a016d5f518>"
      ]
     },
     "metadata": {},
     "output_type": "display_data"
    }
   ],
   "source": [
    "plt.plot(x1)\n",
    "plt.plot(u.numpy())"
   ]
  },
  {
   "cell_type": "code",
   "execution_count": 344,
   "metadata": {},
   "outputs": [
    {
     "name": "stderr",
     "output_type": "stream",
     "text": [
      "C:\\Users\\wangr\\AppData\\Roaming\\Python\\Python36\\site-packages\\cvxpy\\problems\\problem.py:1268: UserWarning: Solution may be inaccurate. Try another solver, adjusting the solver settings, or solve with verbose=True for more information.\n",
      "  \"Solution may be inaccurate. Try another solver, \"\n"
     ]
    },
    {
     "data": {
      "text/plain": [
       "[<matplotlib.lines.Line2D at 0x1a01670e550>]"
      ]
     },
     "execution_count": 344,
     "metadata": {},
     "output_type": "execute_result"
    },
    {
     "data": {
      "image/png": "[encoded data removed]",
      "text/plain": [
       "<matplotlib.figure.Figure at 0x1a0166be208>"
      ]
     },
     "metadata": {},
     "output_type": "display_data"
    }
   ],
   "source": [
    "x_l1 = cp.Variable(shape=(N,1))\n",
    "constraints = [x_l1>=0] #, cp.norm(Fw1.numpy()@x_l1-meas, 2)<=torch.norm(noise)]\n",
    "# Form objective.\n",
    "obj = cp.Minimize(cp.norm(D@x_l1, 1) + cp.norm(x_l1[:,0]-meas, 2)**2*1e3)\n",
    "# Form and solve problem.\n",
    "prob = cp.Problem(obj, constraints)\n",
    "prob.solve()\n",
    "x2 = torch.from_numpy(x_l1.value[:,0]).cpu().type(dtype=torch.float32)\n",
    "plt.plot(x_l1.value)\n",
    "plt.plot(u)"
   ]
  },
  {
   "cell_type": "code",
   "execution_count": 3,
   "metadata": {},
   "outputs": [
    {
     "name": "stdout",
     "output_type": "stream",
     "text": [
      "Collecting cvxpy\n",
      "  Using cached https://files.pythonhosted.org/packages/1b/0c/3272e1f0acb8a6688d25b7682ab7a941d606534cd815c60ea71c50a55e70/cvxpy-1.1.12-cp36-cp36m-win_amd64.whl\n",
      "Collecting ecos>=2 (from cvxpy)\n",
      "  Using cached https://files.pythonhosted.org/packages/09/3c/3a3165d7f1bd0b7a06ba4df4962ac3f1f88079252eb77b6da8ebd8de07b9/ecos-2.0.7.post1-cp36-cp36m-win_amd64.whl\n",
      "Collecting numpy>=1.15 (from cvxpy)\n",
      "  Using cached https://files.pythonhosted.org/packages/ea/bc/da526221bc111857c7ef39c3af670bbcf5e69c247b0d22e51986f6d0c5c2/numpy-1.19.5-cp36-cp36m-win_amd64.whl\n",
      "Collecting osqp>=0.4.1 (from cvxpy)\n",
      "  Using cached https://files.pythonhosted.org/packages/6d/76/251d71ce54eb1117218b7e232039da8aa56551d468789a7eb84d719725d2/osqp-0.6.2.post0-cp36-cp36m-win_amd64.whl\n",
      "Collecting scs>=1.1.6 (from cvxpy)\n",
      "Collecting scipy>=1.1.0 (from cvxpy)\n",
      "  Using cached https://files.pythonhosted.org/packages/f3/9f/80522344838ae24cac9e945240436269cbb92349f7f1f4c9dfc10cb6bad5/scipy-1.5.4-cp36-cp36m-win_amd64.whl\n",
      "Collecting qdldl (from osqp>=0.4.1->cvxpy)\n",
      "  Using cached https://files.pythonhosted.org/packages/d5/9e/f7b57ff533ee3a474c6afd6457b7154b514a9651c9ea4b804820dbeba1b8/qdldl-0.1.5.post0-cp36-cp36m-win_amd64.whl\n",
      "Installing collected packages: numpy, scipy, ecos, qdldl, osqp, scs, cvxpy\n",
      "  Found existing installation: cvxpy 1.1.12\n",
      "    Uninstalling cvxpy-1.1.12:\n",
      "      Successfully uninstalled cvxpy-1.1.12\n",
      "Successfully installed cvxpy-1.1.12 ecos-2.0.7.post1 numpy-1.19.5 osqp-0.6.2.post0 qdldl-0.1.5.post0 scipy-1.5.4 scs-2.1.3\n"
     ]
    },
    {
     "name": "stderr",
     "output_type": "stream",
     "text": [
      "You are using pip version 9.0.1, however version 21.1.1 is available.\n",
      "You should consider upgrading via the 'python -m pip install --upgrade pip' command.\n"
     ]
    }
   ],
   "source": [
    "!pip install --upgrade --force-reinstall cvxpy --user"
   ]
  },
  {
   "cell_type": "code",
   "execution_count": 87,
   "metadata": {},
   "outputs": [
    {
     "name": "stdout",
     "output_type": "stream",
     "text": [
      "[[ 1.  0.  0. ...  0.  0.  0.]\n",
      " [-1.  1.  0. ...  0.  0.  0.]\n",
      " [ 0. -1.  1. ...  0.  0.  0.]\n",
      " ...\n",
      " [ 0.  0.  0. ...  1.  0.  0.]\n",
      " [ 0.  0.  0. ... -1.  1.  0.]\n",
      " [ 0.  0.  0. ...  0. -1.  1.]]\n"
     ]
    }
   ],
   "source": [
    "D = np.diag(np.ones((N,1))[:,0],0)-np.diag(np.ones((N-1,1))[:,0],-1)\n",
    "print(D)"
   ]
  },
  {
   "cell_type": "code",
   "execution_count": 613,
   "metadata": {},
   "outputs": [],
   "source": [
    "def l1solv(Fw1,meas):\n",
    "# Create variable.\n",
    "   x_l1 = cp.Variable(shape=(N,1))\n",
    "   constraints = [x_l1>=0] #, cp.norm(Fw1.numpy()@x_l1-meas, 2)<=torch.norm(noise)]\n",
    "# Form objective.\n",
    "   obj = cp.Minimize(cp.norm(D@x_l1, 1) + cp.norm((Fw1.numpy()@x_l1)[:,0]-meas, 2)**2*5e4)\n",
    "# Form and solve problem.\n",
    "   prob = cp.Problem(obj, constraints)\n",
    "   prob.solve()\n",
    "   x2 = torch.from_numpy(x_l1.value[:,0]).cpu().type(dtype=torch.float32)\n",
    "   plt.plot(x_l1.value)\n",
    "   plt.plot(u)\n",
    " #  return torch.norm(x2,0.1)*1e-20#+torch.norm((Fw1@x2).reshape(500,1)-meas)*1e-2\n",
    "   return net1(x2/np.linalg.norm(x2))#,torch.norm((Fw1@x2).reshape(500,1)-meas)*1e-10*2"
   ]
  },
  {
   "cell_type": "code",
   "execution_count": 307,
   "metadata": {
    "scrolled": true
   },
   "outputs": [
    {
     "data": {
      "text/plain": [
       "[<matplotlib.lines.Line2D at 0x1a016a5e438>]"
      ]
     },
     "execution_count": 307,
     "metadata": {},
     "output_type": "execute_result"
    },
    {
     "data": {
      "image/png": "[encoded data removed]",
      "text/plain": [
       "<matplotlib.figure.Figure at 0x1a016a317b8>"
      ]
     },
     "metadata": {},
     "output_type": "display_data"
    }
   ],
   "source": [
    "plt.plot(u)"
   ]
  },
  {
   "cell_type": "code",
   "execution_count": 649,
   "metadata": {},
   "outputs": [
    {
     "data": {
      "text/plain": [
       "tensor([0.0037], grad_fn=<SigmoidBackward>)"
      ]
     },
     "execution_count": 649,
     "metadata": {},
     "output_type": "execute_result"
    },
    {
     "data": {
      "image/png": "[encoded data removed]",
      "text/plain": [
       "<matplotlib.figure.Figure at 0x1a02c0cf240>"
      ]
     },
     "metadata": {},
     "output_type": "display_data"
    }
   ],
   "source": [
    "l1solv(torch.matrix_power(A, 500),meas)"
   ]
  },
  {
   "cell_type": "code",
   "execution_count": 654,
   "metadata": {},
   "outputs": [
    {
     "data": {
      "image/png": "[encoded data removed]",
      "text/plain": [
       "<matplotlib.figure.Figure at 0x1a029b7ab70>"
      ]
     },
     "metadata": {},
     "output_type": "display_data"
    }
   ],
   "source": [
    "t = np.linspace(200,3000,20)\n",
    "a =[]\n",
    "for ti in range(20):\n",
    "    a.append(l1solv(torch.matrix_power(A, int(t[ti])),meas))"
   ]
  },
  {
   "cell_type": "code",
   "execution_count": 651,
   "metadata": {
    "scrolled": true
   },
   "outputs": [
    {
     "data": {
      "text/plain": [
       "[<matplotlib.lines.Line2D at 0x1a02a04d748>]"
      ]
     },
     "execution_count": 651,
     "metadata": {},
     "output_type": "execute_result"
    },
    {
     "data": {
      "image/png": "[encoded data removed]",
      "text/plain": [
       "<matplotlib.figure.Figure at 0x1a02d8f6390>"
      ]
     },
     "metadata": {},
     "output_type": "display_data"
    }
   ],
   "source": [
    "plt.plot(t,a)"
   ]
  },
  {
   "cell_type": "code",
   "execution_count": 655,
   "metadata": {},
   "outputs": [
    {
     "data": {
      "text/plain": [
       "[<matplotlib.lines.Line2D at 0x1a019f29080>]"
      ]
     },
     "execution_count": 655,
     "metadata": {},
     "output_type": "execute_result"
    },
    {
     "data": {
      "image/png": "[encoded data removed]",
      "text/plain": [
       "<matplotlib.figure.Figure at 0x1a029c589b0>"
      ]
     },
     "metadata": {},
     "output_type": "display_data"
    }
   ],
   "source": [
    "plt.plot(t,a)"
   ]
  },
  {
   "cell_type": "code",
   "execution_count": null,
   "metadata": {},
   "outputs": [],
   "source": []
  }
 ],
 "metadata": {
  "kernelspec": {
   "display_name": "Python 3",
   "language": "python",
   "name": "python3"
  },
  "language_info": {
   "codemirror_mode": {
    "name": "ipython",
    "version": 3
   },
   "file_extension": ".py",
   "mimetype": "text/x-python",
   "name": "python",
   "nbconvert_exporter": "python",
   "pygments_lexer": "ipython3",
   "version": "3.6.4"
  }
 },
 "nbformat": 4,
 "nbformat_minor": 4
}
